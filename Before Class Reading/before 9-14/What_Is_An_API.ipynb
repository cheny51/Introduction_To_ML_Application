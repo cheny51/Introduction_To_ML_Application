{
 "cells": [
  {
   "cell_type": "markdown",
   "metadata": {},
   "source": [
    "Reading from:\n",
    "https_www.freecodecamp.org/?url=https%3A%2F%2Fwww.freecodecamp.org%2Fnews%2Fwhat-is-an-api-in-english-please-b880a3214a82%2F"
   ]
  },
  {
   "cell_type": "markdown",
   "metadata": {},
   "source": [
    "# Reading about API\n"
   ]
  },
  {
   "cell_type": "markdown",
   "metadata": {},
   "source": [
    "API stands for Application Programming Interface. But before that, let's understand the *web* first"
   ]
  },
  {
   "cell_type": "markdown",
   "metadata": {},
   "source": [
    "## Web\n",
    "\n",
    "##### Server\n",
    "A place where it stores webpages. Process request and send response to sender.\n",
    "\n",
    "##### Client\n",
    "This web browser is a client, making those request and process the response from the server.\n",
    "\n",
    "API is part of the server that receives requests and sends responses."
   ]
  },
  {
   "cell_type": "markdown",
   "metadata": {},
   "source": [
    "## How API is used in business?"
   ]
  },
  {
   "cell_type": "markdown",
   "metadata": {},
   "source": [
    "Goal: allow customer to make an appointment with a company on the website.\n",
    "Procedure of the API:\n",
    "(In the backbone of the website):\n",
    "1. Website's server make request to google's server\n",
    "2. Google's server respond to that request, send it's response back to Web's server.\n",
    "3. Web's server get it, process it, bring up to the browser, send confirmation to user\n",
    "4. To process responses, it could be in HTML, JSON, and different ones.\n",
    "(But on the top-level):\n",
    "1. Customer finish this without going to different page"
   ]
  },
  {
   "cell_type": "markdown",
   "metadata": {},
   "source": [
    "## What does offering an API to customer mean for them?"
   ]
  },
  {
   "cell_type": "markdown",
   "metadata": {},
   "source": [
    "Customized a set of services that take requests, process them, and return pure data responses. JSON is a helpful format that allow easy extraction of data."
   ]
  },
  {
   "cell_type": "markdown",
   "metadata": {},
   "source": [
    "## What consider an Application?"
   ]
  },
  {
   "cell_type": "markdown",
   "metadata": {},
   "source": [
    "“Application” can refer to many things. Here are some of them in the context of API:\n",
    "\n",
    "- A piece of software with a distinct function.\n",
    "- The whole server, the whole app, or just a small part of an app.\n",
    "\n",
    "In the context of object oriented design, you have many objects in your source code. Each object is an API, because you have many methods that interact with other objects in the application. - Public method, that is."
   ]
  },
  {
   "cell_type": "markdown",
   "metadata": {},
   "source": [
    "# What is an API Economy | MuleSoft"
   ]
  },
  {
   "cell_type": "markdown",
   "metadata": {},
   "source": [
    "the way APIs can positively affect an organization's profitability"
   ]
  },
  {
   "cell_type": "markdown",
   "metadata": {},
   "source": [
    "## Old time vs. Now"
   ]
  },
  {
   "cell_type": "markdown",
   "metadata": {},
   "source": [
    "In the old age, API is a tool that allow cross-communication between interfaces and data sharing platform\n",
    "\n",
    "Now, making API does help business to grow, make money."
   ]
  },
  {
   "cell_type": "markdown",
   "metadata": {},
   "source": [
    "Gartner:\n",
    "make connection faster, reaching to more people, more transaction, faster algorithm, new algorithm that make business to run differently.\n",
    "\n",
    "MuleSoft:\n",
    "Everybody need APIs to some degree to be able to run in today's market!\n",
    "\n",
    "Goal of API: creating new services and capabilities"
   ]
  },
  {
   "cell_type": "code",
   "execution_count": null,
   "metadata": {},
   "outputs": [],
   "source": []
  }
 ],
 "metadata": {
  "kernelspec": {
   "display_name": "Python 3",
   "language": "python",
   "name": "python3"
  },
  "language_info": {
   "codemirror_mode": {
    "name": "ipython",
    "version": 3
   },
   "file_extension": ".py",
   "mimetype": "text/x-python",
   "name": "python",
   "nbconvert_exporter": "python",
   "pygments_lexer": "ipython3",
   "version": "3.7.4"
  }
 },
 "nbformat": 4,
 "nbformat_minor": 2
}
