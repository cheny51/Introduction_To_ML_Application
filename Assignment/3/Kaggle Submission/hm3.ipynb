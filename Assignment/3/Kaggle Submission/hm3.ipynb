{
  "nbformat": 4,
  "nbformat_minor": 0,
  "metadata": {
    "anaconda-cloud": {},
    "celltoolbar": "Slideshow",
    "colab": {
      "name": "hm3_starter.ipynb",
      "provenance": [],
      "collapsed_sections": [
        "hSXsCkclbiAj",
        "mAC6v0SQbiAp"
      ]
    },
    "kernelspec": {
      "display_name": "Python 3",
      "language": "python",
      "name": "python3"
    },
    "language_info": {
      "codemirror_mode": {
        "name": "ipython",
        "version": 3
      },
      "file_extension": ".py",
      "mimetype": "text/x-python",
      "name": "python",
      "nbconvert_exporter": "python",
      "pygments_lexer": "ipython3",
      "version": "3.7.6"
    }
  },
  "cells": [
    {
      "cell_type": "markdown",
      "metadata": {
        "colab_type": "text",
        "id": "hSXsCkclbiAj"
      },
      "source": [
        "## Introduction to Python Exercises\n",
        "\n",
        "![](https://github.com/rpi-techfundamentals/hm-01-starter/blob/master/notsaved.png?raw=1)\n",
        "\n",
        "**Save your working file in Google drive so that all changes will be saved as you work. MAKE SURE that your final version is saved to GitHub.** \n",
        "\n",
        "Before you turn this in, make sure everything runs as expected. First, restart the kernel (in the menu, select Kernel → Restart) and then run all cells (in the menubar, select Cell → Run All).  You can speak with others regarding the assignment but all work must be your own. \n",
        "\n",
        "\n",
        "### This is a 30 point assignment.\n",
        "\n",
        "**You may find it useful to go through the notebooks from the course materials when doing these exercises.**\n",
        "\n",
        "**If you attempt to fake passing the tests you will receive a 0 on the assignment and it will be considered an ethical violation.**\n"
      ]
    },
    {
      "cell_type": "code",
      "metadata": {
        "colab_type": "code",
        "id": "8TCzCgMRbiAk",
        "colab": {
          "base_uri": "https://localhost:8080/",
          "height": 0
        },
        "outputId": "c150465c-f162-4c88-8722-27c82d7f3e11"
      },
      "source": [
        "files = \"https://github.com/rpi-techfundamentals/hm-03-starter/raw/master/files.zip\"\n",
        "!pip install otter-grader && wget $files && unzip -o files.zip"
      ],
      "execution_count": 537,
      "outputs": [
        {
          "output_type": "stream",
          "text": [
            "Requirement already satisfied: otter-grader in /usr/local/lib/python3.6/dist-packages (1.1.2)\n",
            "Requirement already satisfied: setuptools in /usr/local/lib/python3.6/dist-packages (from otter-grader) (50.3.0)\n",
            "Requirement already satisfied: docker in /usr/local/lib/python3.6/dist-packages (from otter-grader) (4.3.1)\n",
            "Requirement already satisfied: tornado in /usr/local/lib/python3.6/dist-packages (from otter-grader) (5.1.1)\n",
            "Requirement already satisfied: pyyaml in /usr/local/lib/python3.6/dist-packages (from otter-grader) (3.13)\n",
            "Requirement already satisfied: dill in /usr/local/lib/python3.6/dist-packages (from otter-grader) (0.3.2)\n",
            "Requirement already satisfied: ipython in /usr/local/lib/python3.6/dist-packages (from otter-grader) (5.5.0)\n",
            "Requirement already satisfied: jinja2 in /usr/local/lib/python3.6/dist-packages (from otter-grader) (2.11.2)\n",
            "Requirement already satisfied: nbconvert<6.0.0 in /usr/local/lib/python3.6/dist-packages (from otter-grader) (5.6.1)\n",
            "Requirement already satisfied: tqdm in /usr/local/lib/python3.6/dist-packages (from otter-grader) (4.41.1)\n",
            "Requirement already satisfied: PyPDF2 in /usr/local/lib/python3.6/dist-packages (from otter-grader) (1.26.0)\n",
            "Requirement already satisfied: pandas in /usr/local/lib/python3.6/dist-packages (from otter-grader) (1.0.5)\n",
            "Requirement already satisfied: pdfkit in /usr/local/lib/python3.6/dist-packages (from otter-grader) (0.6.1)\n",
            "Requirement already satisfied: nbformat in /usr/local/lib/python3.6/dist-packages (from otter-grader) (5.0.7)\n",
            "Requirement already satisfied: six>=1.4.0 in /usr/local/lib/python3.6/dist-packages (from docker->otter-grader) (1.15.0)\n",
            "Requirement already satisfied: websocket-client>=0.32.0 in /usr/local/lib/python3.6/dist-packages (from docker->otter-grader) (0.57.0)\n",
            "Requirement already satisfied: requests!=2.18.0,>=2.14.2 in /usr/local/lib/python3.6/dist-packages (from docker->otter-grader) (2.23.0)\n",
            "Requirement already satisfied: decorator in /usr/local/lib/python3.6/dist-packages (from ipython->otter-grader) (4.4.2)\n",
            "Requirement already satisfied: traitlets>=4.2 in /usr/local/lib/python3.6/dist-packages (from ipython->otter-grader) (4.3.3)\n",
            "Requirement already satisfied: pickleshare in /usr/local/lib/python3.6/dist-packages (from ipython->otter-grader) (0.7.5)\n",
            "Requirement already satisfied: simplegeneric>0.8 in /usr/local/lib/python3.6/dist-packages (from ipython->otter-grader) (0.8.1)\n",
            "Requirement already satisfied: prompt-toolkit<2.0.0,>=1.0.4 in /usr/local/lib/python3.6/dist-packages (from ipython->otter-grader) (1.0.18)\n",
            "Requirement already satisfied: pexpect; sys_platform != \"win32\" in /usr/local/lib/python3.6/dist-packages (from ipython->otter-grader) (4.8.0)\n",
            "Requirement already satisfied: pygments in /usr/local/lib/python3.6/dist-packages (from ipython->otter-grader) (2.6.1)\n",
            "Requirement already satisfied: MarkupSafe>=0.23 in /usr/local/lib/python3.6/dist-packages (from jinja2->otter-grader) (1.1.1)\n",
            "Requirement already satisfied: jupyter-core in /usr/local/lib/python3.6/dist-packages (from nbconvert<6.0.0->otter-grader) (4.6.3)\n",
            "Requirement already satisfied: entrypoints>=0.2.2 in /usr/local/lib/python3.6/dist-packages (from nbconvert<6.0.0->otter-grader) (0.3)\n",
            "Requirement already satisfied: bleach in /usr/local/lib/python3.6/dist-packages (from nbconvert<6.0.0->otter-grader) (3.1.5)\n",
            "Requirement already satisfied: testpath in /usr/local/lib/python3.6/dist-packages (from nbconvert<6.0.0->otter-grader) (0.4.4)\n",
            "Requirement already satisfied: mistune<2,>=0.8.1 in /usr/local/lib/python3.6/dist-packages (from nbconvert<6.0.0->otter-grader) (0.8.4)\n",
            "Requirement already satisfied: defusedxml in /usr/local/lib/python3.6/dist-packages (from nbconvert<6.0.0->otter-grader) (0.6.0)\n",
            "Requirement already satisfied: pandocfilters>=1.4.1 in /usr/local/lib/python3.6/dist-packages (from nbconvert<6.0.0->otter-grader) (1.4.2)\n",
            "Requirement already satisfied: numpy>=1.13.3 in /usr/local/lib/python3.6/dist-packages (from pandas->otter-grader) (1.18.5)\n",
            "Requirement already satisfied: pytz>=2017.2 in /usr/local/lib/python3.6/dist-packages (from pandas->otter-grader) (2018.9)\n",
            "Requirement already satisfied: python-dateutil>=2.6.1 in /usr/local/lib/python3.6/dist-packages (from pandas->otter-grader) (2.8.1)\n",
            "Requirement already satisfied: ipython-genutils in /usr/local/lib/python3.6/dist-packages (from nbformat->otter-grader) (0.2.0)\n",
            "Requirement already satisfied: jsonschema!=2.5.0,>=2.4 in /usr/local/lib/python3.6/dist-packages (from nbformat->otter-grader) (2.6.0)\n",
            "Requirement already satisfied: urllib3!=1.25.0,!=1.25.1,<1.26,>=1.21.1 in /usr/local/lib/python3.6/dist-packages (from requests!=2.18.0,>=2.14.2->docker->otter-grader) (1.24.3)\n",
            "Requirement already satisfied: idna<3,>=2.5 in /usr/local/lib/python3.6/dist-packages (from requests!=2.18.0,>=2.14.2->docker->otter-grader) (2.10)\n",
            "Requirement already satisfied: chardet<4,>=3.0.2 in /usr/local/lib/python3.6/dist-packages (from requests!=2.18.0,>=2.14.2->docker->otter-grader) (3.0.4)\n",
            "Requirement already satisfied: certifi>=2017.4.17 in /usr/local/lib/python3.6/dist-packages (from requests!=2.18.0,>=2.14.2->docker->otter-grader) (2020.6.20)\n",
            "Requirement already satisfied: wcwidth in /usr/local/lib/python3.6/dist-packages (from prompt-toolkit<2.0.0,>=1.0.4->ipython->otter-grader) (0.2.5)\n",
            "Requirement already satisfied: ptyprocess>=0.5 in /usr/local/lib/python3.6/dist-packages (from pexpect; sys_platform != \"win32\"->ipython->otter-grader) (0.6.0)\n",
            "Requirement already satisfied: packaging in /usr/local/lib/python3.6/dist-packages (from bleach->nbconvert<6.0.0->otter-grader) (20.4)\n",
            "Requirement already satisfied: webencodings in /usr/local/lib/python3.6/dist-packages (from bleach->nbconvert<6.0.0->otter-grader) (0.5.1)\n",
            "Requirement already satisfied: pyparsing>=2.0.2 in /usr/local/lib/python3.6/dist-packages (from packaging->bleach->nbconvert<6.0.0->otter-grader) (2.4.7)\n",
            "--2020-09-19 03:06:51--  https://github.com/rpi-techfundamentals/hm-03-starter/raw/master/files.zip\n",
            "Resolving github.com (github.com)... 140.82.112.3\n",
            "Connecting to github.com (github.com)|140.82.112.3|:443... connected.\n",
            "HTTP request sent, awaiting response... 302 Found\n",
            "Location: https://raw.githubusercontent.com/rpi-techfundamentals/hm-03-starter/master/files.zip [following]\n",
            "--2020-09-19 03:06:51--  https://raw.githubusercontent.com/rpi-techfundamentals/hm-03-starter/master/files.zip\n",
            "Resolving raw.githubusercontent.com (raw.githubusercontent.com)... 151.101.0.133, 151.101.64.133, 151.101.128.133, ...\n",
            "Connecting to raw.githubusercontent.com (raw.githubusercontent.com)|151.101.0.133|:443... connected.\n",
            "HTTP request sent, awaiting response... 200 OK\n",
            "Length: 45953 (45K) [application/zip]\n",
            "Saving to: ‘files.zip.2’\n",
            "\n",
            "files.zip.2         100%[===================>]  44.88K  --.-KB/s    in 0.02s   \n",
            "\n",
            "2020-09-19 03:06:51 (1.86 MB/s) - ‘files.zip.2’ saved [45953/45953]\n",
            "\n",
            "Archive:  files.zip\n",
            "  inflating: input/test.csv          \n",
            "  inflating: input/iris.csv          \n",
            "  inflating: input/train.csv         \n",
            "  inflating: tests/q01.py            \n",
            "  inflating: tests/q11.py            \n",
            "  inflating: tests/q05.py            \n",
            " extracting: tests/__init__.py       \n",
            "  inflating: tests/q14.py            \n",
            "  inflating: tests/q10.py            \n",
            "  inflating: tests/qname.py          \n",
            "  inflating: tests/q07.py            \n",
            "  inflating: tests/q03.py            \n",
            "  inflating: tests/q13.py            \n",
            "  inflating: tests/q02.py            \n",
            "  inflating: tests/q12.py            \n",
            "  inflating: tests/q06.py            \n",
            "  inflating: tests/.ipynb_checkpoints/q09-checkpoint.py  \n",
            "  inflating: tests/.ipynb_checkpoints/q13-checkpoint.py  \n",
            "  inflating: tests/.ipynb_checkpoints/q14-checkpoint.py  \n",
            "  inflating: tests/.ipynb_checkpoints/q03-checkpoint.py  \n",
            "  inflating: tests/.ipynb_checkpoints/q07-checkpoint.py  \n",
            "  inflating: tests/.ipynb_checkpoints/q10-checkpoint.py  \n",
            "  inflating: tests/.ipynb_checkpoints/q11-checkpoint.py  \n",
            "  inflating: tests/.ipynb_checkpoints/q06-checkpoint.py  \n",
            "  inflating: tests/.ipynb_checkpoints/q02-checkpoint.py  \n",
            "  inflating: tests/.ipynb_checkpoints/q05-checkpoint.py  \n",
            "  inflating: tests/.ipynb_checkpoints/q12-checkpoint.py  \n",
            "  inflating: tests/.ipynb_checkpoints/q01-checkpoint.py  \n",
            "  inflating: tests/.ipynb_checkpoints/q08-checkpoint.py  \n",
            "  inflating: tests/q09.py            \n",
            "  inflating: tests/q08.py            \n",
            "  inflating: hm.ok                   \n"
          ],
          "name": "stdout"
        }
      ]
    },
    {
      "cell_type": "code",
      "metadata": {
        "colab_type": "code",
        "id": "moTUYN9VbiAm",
        "colab": {}
      },
      "source": [
        "#Run this. It initiates autograding. \n",
        "import otter\n",
        "grader = otter.Notebook()"
      ],
      "execution_count": 538,
      "outputs": []
    },
    {
      "cell_type": "markdown",
      "metadata": {
        "colab_type": "text",
        "id": "mAC6v0SQbiAp"
      },
      "source": [
        "## Exercises - For and If and Functions\n",
        "\n",
        "(1). Create a function `list_step` that accepts 3 variables (`start`, `stop`, `step`).  The function returns a list starting at `start`, ending at `stop`, and with a step of `step`.\n",
        "\n",
        "For example:\n",
        "\n",
        "`list_step(5, 19, 2)`\n",
        "\n",
        "Should return: \n",
        "\n",
        "`[5, 7, 9, 11, 13, 15, 17]`\n"
      ]
    },
    {
      "cell_type": "code",
      "metadata": {
        "colab_type": "code",
        "id": "QM-6RxE3biAp",
        "colab": {
          "base_uri": "https://localhost:8080/",
          "height": 0
        },
        "outputId": "e1a2309d-3662-49d1-c38c-9a9ca14be918"
      },
      "source": [
        "#Answer question 1 here.\n",
        "def list_step(start, stop, step): return list(range(start, stop, step))\n",
        "list_step(5, 19, 2)"
      ],
      "execution_count": 539,
      "outputs": [
        {
          "output_type": "execute_result",
          "data": {
            "text/plain": [
              "[5, 7, 9, 11, 13, 15, 17]"
            ]
          },
          "metadata": {
            "tags": []
          },
          "execution_count": 539
        }
      ]
    },
    {
      "cell_type": "code",
      "metadata": {
        "colab_type": "code",
        "id": "ZyGkeyIabiAs",
        "colab": {
          "base_uri": "https://localhost:8080/",
          "height": 0
        },
        "outputId": "1c6b745b-6e70-4a20-912f-901f817b35b8"
      },
      "source": [
        "list1= list_step(5, 19, 2) #include this code\n",
        "grader.check('q01')"
      ],
      "execution_count": 540,
      "outputs": [
        {
          "output_type": "execute_result",
          "data": {
            "text/html": [
              "\n",
              "    \n",
              "    \n",
              "        <p>All tests passed!</p>\n",
              "    \n",
              "    "
            ],
            "text/plain": [
              "\n",
              "    All tests passed!\n",
              "    "
            ]
          },
          "metadata": {
            "tags": []
          },
          "execution_count": 540
        }
      ]
    },
    {
      "cell_type": "markdown",
      "metadata": {
        "colab_type": "text",
        "id": "2MlJHdBIbiAv"
      },
      "source": [
        "(2). Create a function `list_divisible` that accepts 3 variables (`start`, `stop`, `divisible`).  Use a for loop to create a list of all numbers from `start` to `stop` which are divisible by `divisible`.\n",
        "\n",
        "For example:\n",
        "\n",
        "`list_divisible(1, 50, 7)`\n",
        "\n",
        "Should return: \n",
        "\n",
        "`[7, 14, 21, 28, 35, 42, 49]`"
      ]
    },
    {
      "cell_type": "code",
      "metadata": {
        "colab_type": "code",
        "id": "5_MwSa5lbiAv",
        "colab": {
          "base_uri": "https://localhost:8080/",
          "height": 0
        },
        "outputId": "d8d9a5f8-c54a-4169-9f96-00b0a71e71c8"
      },
      "source": [
        "#Answer question 2 here.\n",
        "import numpy as np\n",
        "# def list_divisible (start, stop, divisible):\n",
        "#  # without loop\n",
        "#  num_list = np.arange(start, stop, dtype=int)\n",
        "#  mod_condition = (num_list % divisible == 0)\n",
        "#  return num_list[mod_condition].tolist()\n",
        "def list_divisible (start, stop, divisible):\n",
        "  # with loop\n",
        "  divisible_list = []\n",
        "  for i in range(start, stop):\n",
        "    if i % divisible == 0:\n",
        "        divisible_list += [i]\n",
        "  return divisible_list\n",
        "list_divisible(1, 50, 7)"
      ],
      "execution_count": 541,
      "outputs": [
        {
          "output_type": "execute_result",
          "data": {
            "text/plain": [
              "[7, 14, 21, 28, 35, 42, 49]"
            ]
          },
          "metadata": {
            "tags": []
          },
          "execution_count": 541
        }
      ]
    },
    {
      "cell_type": "code",
      "metadata": {
        "colab_type": "code",
        "id": "8jttsZuUbiAy",
        "colab": {
          "base_uri": "https://localhost:8080/",
          "height": 0
        },
        "outputId": "13f4c9f8-4f29-4aad-ac81-a0608d3cf959"
      },
      "source": [
        "list2= list_divisible(1, 50, 7) #include this code\n",
        "grader.check('q02')\n"
      ],
      "execution_count": 542,
      "outputs": [
        {
          "output_type": "execute_result",
          "data": {
            "text/html": [
              "\n",
              "    \n",
              "    \n",
              "        <p>All tests passed!</p>\n",
              "    \n",
              "    "
            ],
            "text/plain": [
              "\n",
              "    All tests passed!\n",
              "    "
            ]
          },
          "metadata": {
            "tags": []
          },
          "execution_count": 542
        }
      ]
    },
    {
      "cell_type": "markdown",
      "metadata": {
        "colab_type": "text",
        "id": "Uq-Ez73bbiA0"
      },
      "source": [
        "(3). Create a function `list_divisible_not` that accepts 4 variables (`start`, `stop`, `divisible`, `not_divisible`).  Use a for loop to create a list of all numbers from `start` to `stop` which are divisible by `divisible` but not divisible by `not_divisible`.\n",
        "\n",
        "For example:\n",
        "\n",
        "`list_divisible_not(1, 100, 4, 3)`\n",
        "\n",
        "Should return: \n",
        "\n",
        "`[4, 8, 16, 20, 28, 32, 40, 44, 52, 56, 64, 68, 76, 80, 88, 92]`\n"
      ]
    },
    {
      "cell_type": "code",
      "metadata": {
        "colab_type": "code",
        "id": "v3gDy1YrbiA1",
        "colab": {
          "base_uri": "https://localhost:8080/",
          "height": 0
        },
        "outputId": "309da76a-5044-4d70-f427-eb967b8a6c75"
      },
      "source": [
        "#Answer question 3 here.\n",
        "import numpy as np\n",
        "# def list_divisible_not (start, stop, divisible, not_divisible):\n",
        "#   num_list = np.arange(start=start, stop=stop)\n",
        "#   divisible_condition = (num_list % divisible == 0)\n",
        "#   not_divisible_condition = (num_list % not_divisible != 0)\n",
        "#   return num_list[divisible_condition & not_divisible_condition].tolist()\n",
        "def list_divisible_not (start, stop, divisible, not_divisible):\n",
        "  # with loop\n",
        "  divisible_list = []\n",
        "  for i in range(start, stop):\n",
        "    if (i % divisible == 0) and (i % not_divisible != 0):\n",
        "        divisible_list += [i]\n",
        "  return divisible_list\n",
        "list_divisible_not(1, 100, 4, 3)"
      ],
      "execution_count": 543,
      "outputs": [
        {
          "output_type": "execute_result",
          "data": {
            "text/plain": [
              "[4, 8, 16, 20, 28, 32, 40, 44, 52, 56, 64, 68, 76, 80, 88, 92]"
            ]
          },
          "metadata": {
            "tags": []
          },
          "execution_count": 543
        }
      ]
    },
    {
      "cell_type": "code",
      "metadata": {
        "colab_type": "code",
        "id": "8SbK9vjgbiA3",
        "colab": {
          "base_uri": "https://localhost:8080/",
          "height": 0
        },
        "outputId": "77829a0e-6543-473b-8e73-a1398bdf36eb"
      },
      "source": [
        "list3= list_divisible_not(1, 100, 4, 3) #include this code\n",
        "grader.check('q03')"
      ],
      "execution_count": 544,
      "outputs": [
        {
          "output_type": "execute_result",
          "data": {
            "text/html": [
              "\n",
              "    \n",
              "    \n",
              "        <p>All tests passed!</p>\n",
              "    \n",
              "    "
            ],
            "text/plain": [
              "\n",
              "    All tests passed!\n",
              "    "
            ]
          },
          "metadata": {
            "tags": []
          },
          "execution_count": 544
        }
      ]
    },
    {
      "cell_type": "markdown",
      "metadata": {
        "colab_type": "text",
        "id": "NxikYaAUbiA5"
      },
      "source": [
        "## Exercises-Titanic\n",
        "\n",
        "The following exercises will use the titanic data from Kaggle.  I've included it in the input folder just like Kaggle. "
      ]
    },
    {
      "cell_type": "code",
      "metadata": {
        "colab_type": "code",
        "id": "eXeFgxJ5biA7",
        "colab": {}
      },
      "source": [
        "import numpy as np \n",
        "import pandas as pd \n",
        "\n",
        "# Input data files are available in the \"../input/\" directory.\n",
        "# Let's input them into a Pandas DataFrame\n",
        "train = pd.read_csv(\"./input/train.csv\")\n",
        "test  = pd.read_csv(\"./input/test.csv\")"
      ],
      "execution_count": 545,
      "outputs": []
    },
    {
      "cell_type": "markdown",
      "metadata": {
        "colab_type": "text",
        "id": "djs2sUOWbiA-"
      },
      "source": [
        "(4) What is the key difference between the train and the test?"
      ]
    },
    {
      "cell_type": "code",
      "metadata": {
        "colab_type": "code",
        "id": "9kqVcP-7biA-",
        "colab": {}
      },
      "source": [
        "man4=\"\"\"\n",
        "train -> data used to construct model\n",
        "test -> data used to evaluate the model built\n",
        "\"\"\""
      ],
      "execution_count": 546,
      "outputs": []
    },
    {
      "cell_type": "markdown",
      "metadata": {
        "colab_type": "text",
        "id": "anLIL5fTbiBA"
      },
      "source": [
        "(5) Create a new column `family` that is equal to the `SibSp` * `Parch` for both the train and the test dataframes.  DON'T use a `for` loop. \n"
      ]
    },
    {
      "cell_type": "code",
      "metadata": {
        "colab_type": "code",
        "id": "Q7j4F61AbiBB",
        "colab": {}
      },
      "source": [
        "#q05 Answer\n",
        "train['family'] = train.SibSp * train.Parch\n",
        "test['family'] = test.SibSp * test.Parch"
      ],
      "execution_count": 547,
      "outputs": []
    },
    {
      "cell_type": "code",
      "metadata": {
        "colab_type": "code",
        "id": "lrzDBkWUbiBD",
        "colab": {
          "base_uri": "https://localhost:8080/",
          "height": 47
        },
        "outputId": "ef6c12ce-627d-4ec2-a5ec-88cb859f4b4a"
      },
      "source": [
        "grader.check('q05')"
      ],
      "execution_count": 548,
      "outputs": [
        {
          "output_type": "execute_result",
          "data": {
            "text/html": [
              "\n",
              "    \n",
              "    \n",
              "        <p>All tests passed!</p>\n",
              "    \n",
              "    "
            ],
            "text/plain": [
              "\n",
              "    All tests passed!\n",
              "    "
            ]
          },
          "metadata": {
            "tags": []
          },
          "execution_count": 548
        }
      ]
    },
    {
      "cell_type": "markdown",
      "metadata": {
        "colab_type": "text",
        "id": "g5jaVVvybiBF"
      },
      "source": [
        "\n",
        "(6). While we can submit our answer to Kaggle to see how it will perform, we can also utilize our training data to assess accuracy. Accuracy is the percentage of predictions made correctly-i.e., the percentage of people in which our prediction regarding their survival is correct. In other words, accuracy = (#correct predictions)/(Total # of predictions). Create a function `generate_accuracy` which accepts two Pandas series objects (`predicted`, `actual`) and returns the accuracy.  \n",
        "\n",
        "For example, when a and b are two different Pandas Series: \n",
        "`generate_accuracy(predicted, actual)`\n",
        "\n",
        "For the sample data below, the data should retun `50.0` (i.e., a percentage).\n",
        "\n"
      ]
    },
    {
      "cell_type": "code",
      "metadata": {
        "colab_type": "code",
        "id": "FvXAq_TjbiBG",
        "colab": {}
      },
      "source": [
        "#Example DATA\n",
        "import pandas as pd\n",
        "ex = [{'predicted': 1, 'actual': 1},\n",
        "         {'predicted': 1,  'actual': 0},\n",
        "         {'predicted': 0,  'actual': 1},\n",
        "         {'predicted': 0,  'actual': 0} ]\n",
        "\n",
        "df = pd.DataFrame(ex)"
      ],
      "execution_count": 549,
      "outputs": []
    },
    {
      "cell_type": "code",
      "metadata": {
        "colab_type": "code",
        "id": "ou4dAw_UbiBH",
        "colab": {}
      },
      "source": [
        "#Answer\n",
        "\n",
        "def generate_accuracy (predicted, actual):\n",
        "  '''\n",
        "  Predicted is the a Pandas Series\n",
        "  Actual is the a Pandas Series\n",
        "  '''\n",
        "  #x = pd.Series(predicted.tolist(), name='predicted')\n",
        "  #y = pd.Series(actual.tolist(),  name='actual')\n",
        "  df_acc = pd.DataFrame({\"predicted\":predicted, \"actual\":actual})\n",
        "  condition1 = (df_acc['predicted'] == df_acc['actual'])\n",
        "  condition2 = (df_acc['predicted'] != df_acc['actual'])\n",
        "  df_acc.loc[condition1, 'accuracy'] = 1\n",
        "  df_acc.loc[condition2, 'accuracy'] = 0\n",
        "  return df_acc['accuracy'].sum() / len(df_acc['predicted']) * 100"
      ],
      "execution_count": 550,
      "outputs": []
    },
    {
      "cell_type": "code",
      "metadata": {
        "id": "i-8-a15aqxFc",
        "colab_type": "code",
        "colab": {
          "base_uri": "https://localhost:8080/",
          "height": 35
        },
        "outputId": "1cc98e01-8b72-4817-fe16-dbae0d5ce8de"
      },
      "source": [
        "generate_accuracy(df.predicted,df.actual)"
      ],
      "execution_count": 551,
      "outputs": [
        {
          "output_type": "execute_result",
          "data": {
            "text/plain": [
              "50.0"
            ]
          },
          "metadata": {
            "tags": []
          },
          "execution_count": 551
        }
      ]
    },
    {
      "cell_type": "code",
      "metadata": {
        "colab_type": "code",
        "id": "cD_ea-GcbiBK",
        "colab": {
          "base_uri": "https://localhost:8080/",
          "height": 47
        },
        "outputId": "0134985b-2f74-4dc5-98e3-693da9fb6344"
      },
      "source": [
        "grader.check('q06')"
      ],
      "execution_count": 552,
      "outputs": [
        {
          "output_type": "execute_result",
          "data": {
            "text/html": [
              "\n",
              "    \n",
              "    \n",
              "        <p>All tests passed!</p>\n",
              "    \n",
              "    "
            ],
            "text/plain": [
              "\n",
              "    All tests passed!\n",
              "    "
            ]
          },
          "metadata": {
            "tags": []
          },
          "execution_count": 552
        }
      ]
    },
    {
      "cell_type": "markdown",
      "metadata": {
        "colab_type": "text",
        "id": "L0GTY_EcbiBN"
      },
      "source": [
        "(7) Create a column `PredEveryoneDies` which is equal to 0 for everyone in both training and testing datasets. "
      ]
    },
    {
      "cell_type": "code",
      "metadata": {
        "colab_type": "code",
        "id": "dlWR17fEbiBN",
        "colab": {}
      },
      "source": [
        "#Answer\n",
        "train['PredEveryoneDies'] = 0\n",
        "test['PredEveryoneDies'] = 0\n",
        "test['PredEveryoneDies'] = test.PredEveryoneDies.astype(int)\n",
        "train['PredEveryoneDies'] = train.PredEveryoneDies.astype(int)"
      ],
      "execution_count": 553,
      "outputs": []
    },
    {
      "cell_type": "code",
      "metadata": {
        "colab_type": "code",
        "id": "v1FV-k1hbiBP",
        "colab": {
          "base_uri": "https://localhost:8080/",
          "height": 47
        },
        "outputId": "37df47a9-f046-49ad-db94-0780e3c8e429"
      },
      "source": [
        "grader.check('q07')"
      ],
      "execution_count": 554,
      "outputs": [
        {
          "output_type": "execute_result",
          "data": {
            "text/html": [
              "\n",
              "    \n",
              "    \n",
              "        <p>All tests passed!</p>\n",
              "    \n",
              "    "
            ],
            "text/plain": [
              "\n",
              "    All tests passed!\n",
              "    "
            ]
          },
          "metadata": {
            "tags": []
          },
          "execution_count": 554
        }
      ]
    },
    {
      "cell_type": "markdown",
      "metadata": {
        "colab_type": "text",
        "id": "51O0IxAbbiBS"
      },
      "source": [
        "(8) Find the accuracy of `PredEveryoneDies` in predicting `Survived` using the function `generate_accuracy` that you created earlier and assign it to the `AccEveryoneDies` variable. "
      ]
    },
    {
      "cell_type": "code",
      "metadata": {
        "colab_type": "code",
        "id": "sZ_S3mZ0biBS",
        "colab": {}
      },
      "source": [
        "# Answer\n",
        "AccEveryoneDies = generate_accuracy(train.PredEveryoneDies, train.Survived)"
      ],
      "execution_count": 555,
      "outputs": []
    },
    {
      "cell_type": "code",
      "metadata": {
        "colab_type": "code",
        "id": "rs1ZieiWbiBZ",
        "colab": {
          "base_uri": "https://localhost:8080/",
          "height": 47
        },
        "outputId": "42b01445-b969-4fec-8083-c3bb67f5db6a"
      },
      "source": [
        "grader.check('q08')"
      ],
      "execution_count": 556,
      "outputs": [
        {
          "output_type": "execute_result",
          "data": {
            "text/html": [
              "\n",
              "    \n",
              "    \n",
              "        <p>All tests passed!</p>\n",
              "    \n",
              "    "
            ],
            "text/plain": [
              "\n",
              "    All tests passed!\n",
              "    "
            ]
          },
          "metadata": {
            "tags": []
          },
          "execution_count": 556
        }
      ]
    },
    {
      "cell_type": "markdown",
      "metadata": {
        "colab_type": "text",
        "id": "2VJPRTrCbiBb"
      },
      "source": [
        "(9) In both the training and testing datasets, create the column `PredGender` that is 1 -- if the person is a woman and 0 -- if the person is a man. (This is based on the \"women and children first\" law of shipwrecks).  Then set `AccGender` to the accuracy of the `PredGender` in the Train dataset.\n"
      ]
    },
    {
      "cell_type": "code",
      "metadata": {
        "colab_type": "code",
        "id": "YQPXJQ8bbiBb",
        "colab": {},
        "cellView": "form"
      },
      "source": [
        "#@title\n",
        "#Answer\n",
        "def pred_gender (df_data):\n",
        "  condition1 = (df_data['Sex'] == 'male')\n",
        "  condition2 = (df_data['Sex'] == 'female')\n",
        "  df_data.loc[condition1, 'PredGender'] = 0\n",
        "  df_data.loc[condition2, 'PredGender'] = 1\n",
        "  df_data['PredGender'] = df_data.PredGender.astype(int)\n",
        "  return df_data\n",
        "\n",
        "train = pred_gender(train)\n",
        "test = pred_gender(test)\n",
        "#AccGender = generate_accuracy(train.PredGender, train.Survived)\n",
        "#AccGender"
      ],
      "execution_count": 557,
      "outputs": []
    },
    {
      "cell_type": "code",
      "metadata": {
        "colab_type": "code",
        "id": "LYA7qFwEbiBe",
        "colab": {
          "base_uri": "https://localhost:8080/",
          "height": 314
        },
        "outputId": "35cb1405-699b-4a5b-c10a-9c936430c746"
      },
      "source": [
        "grader.check('q09')\n",
        "train.describe()"
      ],
      "execution_count": 558,
      "outputs": [
        {
          "output_type": "execute_result",
          "data": {
            "text/html": [
              "<div>\n",
              "<style scoped>\n",
              "    .dataframe tbody tr th:only-of-type {\n",
              "        vertical-align: middle;\n",
              "    }\n",
              "\n",
              "    .dataframe tbody tr th {\n",
              "        vertical-align: top;\n",
              "    }\n",
              "\n",
              "    .dataframe thead th {\n",
              "        text-align: right;\n",
              "    }\n",
              "</style>\n",
              "<table border=\"1\" class=\"dataframe\">\n",
              "  <thead>\n",
              "    <tr style=\"text-align: right;\">\n",
              "      <th></th>\n",
              "      <th>PassengerId</th>\n",
              "      <th>Survived</th>\n",
              "      <th>Pclass</th>\n",
              "      <th>Age</th>\n",
              "      <th>SibSp</th>\n",
              "      <th>Parch</th>\n",
              "      <th>Fare</th>\n",
              "      <th>family</th>\n",
              "      <th>PredEveryoneDies</th>\n",
              "      <th>PredGender</th>\n",
              "    </tr>\n",
              "  </thead>\n",
              "  <tbody>\n",
              "    <tr>\n",
              "      <th>count</th>\n",
              "      <td>891.000000</td>\n",
              "      <td>891.000000</td>\n",
              "      <td>891.000000</td>\n",
              "      <td>714.000000</td>\n",
              "      <td>891.000000</td>\n",
              "      <td>891.000000</td>\n",
              "      <td>891.000000</td>\n",
              "      <td>891.000000</td>\n",
              "      <td>891.0</td>\n",
              "      <td>891.000000</td>\n",
              "    </tr>\n",
              "    <tr>\n",
              "      <th>mean</th>\n",
              "      <td>446.000000</td>\n",
              "      <td>0.383838</td>\n",
              "      <td>2.308642</td>\n",
              "      <td>29.699118</td>\n",
              "      <td>0.523008</td>\n",
              "      <td>0.381594</td>\n",
              "      <td>32.204208</td>\n",
              "      <td>0.567901</td>\n",
              "      <td>0.0</td>\n",
              "      <td>0.352413</td>\n",
              "    </tr>\n",
              "    <tr>\n",
              "      <th>std</th>\n",
              "      <td>257.353842</td>\n",
              "      <td>0.486592</td>\n",
              "      <td>0.836071</td>\n",
              "      <td>14.526497</td>\n",
              "      <td>1.102743</td>\n",
              "      <td>0.806057</td>\n",
              "      <td>49.693429</td>\n",
              "      <td>1.979287</td>\n",
              "      <td>0.0</td>\n",
              "      <td>0.477990</td>\n",
              "    </tr>\n",
              "    <tr>\n",
              "      <th>min</th>\n",
              "      <td>1.000000</td>\n",
              "      <td>0.000000</td>\n",
              "      <td>1.000000</td>\n",
              "      <td>0.420000</td>\n",
              "      <td>0.000000</td>\n",
              "      <td>0.000000</td>\n",
              "      <td>0.000000</td>\n",
              "      <td>0.000000</td>\n",
              "      <td>0.0</td>\n",
              "      <td>0.000000</td>\n",
              "    </tr>\n",
              "    <tr>\n",
              "      <th>25%</th>\n",
              "      <td>223.500000</td>\n",
              "      <td>0.000000</td>\n",
              "      <td>2.000000</td>\n",
              "      <td>20.125000</td>\n",
              "      <td>0.000000</td>\n",
              "      <td>0.000000</td>\n",
              "      <td>7.910400</td>\n",
              "      <td>0.000000</td>\n",
              "      <td>0.0</td>\n",
              "      <td>0.000000</td>\n",
              "    </tr>\n",
              "    <tr>\n",
              "      <th>50%</th>\n",
              "      <td>446.000000</td>\n",
              "      <td>0.000000</td>\n",
              "      <td>3.000000</td>\n",
              "      <td>28.000000</td>\n",
              "      <td>0.000000</td>\n",
              "      <td>0.000000</td>\n",
              "      <td>14.454200</td>\n",
              "      <td>0.000000</td>\n",
              "      <td>0.0</td>\n",
              "      <td>0.000000</td>\n",
              "    </tr>\n",
              "    <tr>\n",
              "      <th>75%</th>\n",
              "      <td>668.500000</td>\n",
              "      <td>1.000000</td>\n",
              "      <td>3.000000</td>\n",
              "      <td>38.000000</td>\n",
              "      <td>1.000000</td>\n",
              "      <td>0.000000</td>\n",
              "      <td>31.000000</td>\n",
              "      <td>0.000000</td>\n",
              "      <td>0.0</td>\n",
              "      <td>1.000000</td>\n",
              "    </tr>\n",
              "    <tr>\n",
              "      <th>max</th>\n",
              "      <td>891.000000</td>\n",
              "      <td>1.000000</td>\n",
              "      <td>3.000000</td>\n",
              "      <td>80.000000</td>\n",
              "      <td>8.000000</td>\n",
              "      <td>6.000000</td>\n",
              "      <td>512.329200</td>\n",
              "      <td>16.000000</td>\n",
              "      <td>0.0</td>\n",
              "      <td>1.000000</td>\n",
              "    </tr>\n",
              "  </tbody>\n",
              "</table>\n",
              "</div>"
            ],
            "text/plain": [
              "       PassengerId    Survived  ...  PredEveryoneDies  PredGender\n",
              "count   891.000000  891.000000  ...             891.0  891.000000\n",
              "mean    446.000000    0.383838  ...               0.0    0.352413\n",
              "std     257.353842    0.486592  ...               0.0    0.477990\n",
              "min       1.000000    0.000000  ...               0.0    0.000000\n",
              "25%     223.500000    0.000000  ...               0.0    0.000000\n",
              "50%     446.000000    0.000000  ...               0.0    0.000000\n",
              "75%     668.500000    1.000000  ...               0.0    1.000000\n",
              "max     891.000000    1.000000  ...               0.0    1.000000\n",
              "\n",
              "[8 rows x 10 columns]"
            ]
          },
          "metadata": {
            "tags": []
          },
          "execution_count": 558
        }
      ]
    },
    {
      "cell_type": "markdown",
      "metadata": {
        "colab_type": "text",
        "id": "DJ_IGh2ubiBh"
      },
      "source": [
        "(10). Create a `generate_submission` function that accepts a DataFrame, a target column, and a filename (`df`, `target`, `filename`) and writes out the submission file with just the `passengerID` and the `Survived` columns, where the `Survived` column is equal to the target column.\n",
        "\n",
        "For example:\n",
        "`submitdie = generate_submission(train, 'PredEveryoneDies', 'submiteveryonedies.csv')`\n",
        "\n",
        "Should return a dataframe with just `passengerID` and the `Survived` column.  \n",
        "\n",
        "**Make sure your submission file prediction for Survived is an integer and not at float. If you submit a float it may not work.**\n"
      ]
    },
    {
      "cell_type": "code",
      "metadata": {
        "colab_type": "code",
        "id": "F4vp7SOwbiBi",
        "colab": {}
      },
      "source": [
        "#Answer\n",
        "def generate_submission (df, target, filename):\n",
        "  df = df.loc[:,['PassengerId', target]]\n",
        "  # But we have to change the column name.\n",
        "  # Option 1: submission.columns = ['PassengerId', 'Survived']\n",
        "  # Option 2: Rename command.\n",
        "  df.rename(columns={target: 'Survived'}, inplace=True)\n",
        "  df.to_csv(filename, index=False)\n",
        "  return df"
      ],
      "execution_count": 559,
      "outputs": []
    },
    {
      "cell_type": "code",
      "metadata": {
        "colab_type": "code",
        "id": "fLk5RV8JbiBk",
        "colab": {
          "base_uri": "https://localhost:8080/",
          "height": 314
        },
        "outputId": "5aa39000-065d-4b6f-d7f7-0efc3788abbb"
      },
      "source": [
        "grader.check('q10')\n",
        "train.describe()"
      ],
      "execution_count": 560,
      "outputs": [
        {
          "output_type": "execute_result",
          "data": {
            "text/html": [
              "<div>\n",
              "<style scoped>\n",
              "    .dataframe tbody tr th:only-of-type {\n",
              "        vertical-align: middle;\n",
              "    }\n",
              "\n",
              "    .dataframe tbody tr th {\n",
              "        vertical-align: top;\n",
              "    }\n",
              "\n",
              "    .dataframe thead th {\n",
              "        text-align: right;\n",
              "    }\n",
              "</style>\n",
              "<table border=\"1\" class=\"dataframe\">\n",
              "  <thead>\n",
              "    <tr style=\"text-align: right;\">\n",
              "      <th></th>\n",
              "      <th>PassengerId</th>\n",
              "      <th>Survived</th>\n",
              "      <th>Pclass</th>\n",
              "      <th>Age</th>\n",
              "      <th>SibSp</th>\n",
              "      <th>Parch</th>\n",
              "      <th>Fare</th>\n",
              "      <th>family</th>\n",
              "      <th>PredEveryoneDies</th>\n",
              "      <th>PredGender</th>\n",
              "    </tr>\n",
              "  </thead>\n",
              "  <tbody>\n",
              "    <tr>\n",
              "      <th>count</th>\n",
              "      <td>891.000000</td>\n",
              "      <td>891.000000</td>\n",
              "      <td>891.000000</td>\n",
              "      <td>714.000000</td>\n",
              "      <td>891.000000</td>\n",
              "      <td>891.000000</td>\n",
              "      <td>891.000000</td>\n",
              "      <td>891.000000</td>\n",
              "      <td>891.0</td>\n",
              "      <td>891.000000</td>\n",
              "    </tr>\n",
              "    <tr>\n",
              "      <th>mean</th>\n",
              "      <td>446.000000</td>\n",
              "      <td>0.383838</td>\n",
              "      <td>2.308642</td>\n",
              "      <td>29.699118</td>\n",
              "      <td>0.523008</td>\n",
              "      <td>0.381594</td>\n",
              "      <td>32.204208</td>\n",
              "      <td>0.567901</td>\n",
              "      <td>0.0</td>\n",
              "      <td>0.352413</td>\n",
              "    </tr>\n",
              "    <tr>\n",
              "      <th>std</th>\n",
              "      <td>257.353842</td>\n",
              "      <td>0.486592</td>\n",
              "      <td>0.836071</td>\n",
              "      <td>14.526497</td>\n",
              "      <td>1.102743</td>\n",
              "      <td>0.806057</td>\n",
              "      <td>49.693429</td>\n",
              "      <td>1.979287</td>\n",
              "      <td>0.0</td>\n",
              "      <td>0.477990</td>\n",
              "    </tr>\n",
              "    <tr>\n",
              "      <th>min</th>\n",
              "      <td>1.000000</td>\n",
              "      <td>0.000000</td>\n",
              "      <td>1.000000</td>\n",
              "      <td>0.420000</td>\n",
              "      <td>0.000000</td>\n",
              "      <td>0.000000</td>\n",
              "      <td>0.000000</td>\n",
              "      <td>0.000000</td>\n",
              "      <td>0.0</td>\n",
              "      <td>0.000000</td>\n",
              "    </tr>\n",
              "    <tr>\n",
              "      <th>25%</th>\n",
              "      <td>223.500000</td>\n",
              "      <td>0.000000</td>\n",
              "      <td>2.000000</td>\n",
              "      <td>20.125000</td>\n",
              "      <td>0.000000</td>\n",
              "      <td>0.000000</td>\n",
              "      <td>7.910400</td>\n",
              "      <td>0.000000</td>\n",
              "      <td>0.0</td>\n",
              "      <td>0.000000</td>\n",
              "    </tr>\n",
              "    <tr>\n",
              "      <th>50%</th>\n",
              "      <td>446.000000</td>\n",
              "      <td>0.000000</td>\n",
              "      <td>3.000000</td>\n",
              "      <td>28.000000</td>\n",
              "      <td>0.000000</td>\n",
              "      <td>0.000000</td>\n",
              "      <td>14.454200</td>\n",
              "      <td>0.000000</td>\n",
              "      <td>0.0</td>\n",
              "      <td>0.000000</td>\n",
              "    </tr>\n",
              "    <tr>\n",
              "      <th>75%</th>\n",
              "      <td>668.500000</td>\n",
              "      <td>1.000000</td>\n",
              "      <td>3.000000</td>\n",
              "      <td>38.000000</td>\n",
              "      <td>1.000000</td>\n",
              "      <td>0.000000</td>\n",
              "      <td>31.000000</td>\n",
              "      <td>0.000000</td>\n",
              "      <td>0.0</td>\n",
              "      <td>1.000000</td>\n",
              "    </tr>\n",
              "    <tr>\n",
              "      <th>max</th>\n",
              "      <td>891.000000</td>\n",
              "      <td>1.000000</td>\n",
              "      <td>3.000000</td>\n",
              "      <td>80.000000</td>\n",
              "      <td>8.000000</td>\n",
              "      <td>6.000000</td>\n",
              "      <td>512.329200</td>\n",
              "      <td>16.000000</td>\n",
              "      <td>0.0</td>\n",
              "      <td>1.000000</td>\n",
              "    </tr>\n",
              "  </tbody>\n",
              "</table>\n",
              "</div>"
            ],
            "text/plain": [
              "       PassengerId    Survived  ...  PredEveryoneDies  PredGender\n",
              "count   891.000000  891.000000  ...             891.0  891.000000\n",
              "mean    446.000000    0.383838  ...               0.0    0.352413\n",
              "std     257.353842    0.486592  ...               0.0    0.477990\n",
              "min       1.000000    0.000000  ...               0.0    0.000000\n",
              "25%     223.500000    0.000000  ...               0.0    0.000000\n",
              "50%     446.000000    0.000000  ...               0.0    0.000000\n",
              "75%     668.500000    1.000000  ...               0.0    1.000000\n",
              "max     891.000000    1.000000  ...               0.0    1.000000\n",
              "\n",
              "[8 rows x 10 columns]"
            ]
          },
          "metadata": {
            "tags": []
          },
          "execution_count": 560
        }
      ]
    },
    {
      "cell_type": "markdown",
      "metadata": {
        "colab_type": "text",
        "id": "hJd-vOiZbiBm"
      },
      "source": [
        "(11).  To use the [women and children first](https://en.wikipedia.org/wiki/Women_and_children_first) protocol, we will need to use the age field. This has some missing values. We are going to replace null values in the train and test set with the median value for each.  \n",
        "\n",
        "\n",
        "For this particular question: \n",
        "\n",
        "Set the variables `AgeMissingTrain` and `AgeMissingTest` using the count of the number of missing values in the train and test sets, respectively.\n",
        "\n",
        "Set the variable `AgeMedianTrain` and `AgeMedianTest` using the median age of the train and test sets, respectively. "
      ]
    },
    {
      "cell_type": "code",
      "metadata": {
        "colab_type": "code",
        "id": "aFyw0ZeSbiBm",
        "colab": {
          "base_uri": "https://localhost:8080/",
          "height": 314
        },
        "outputId": "9cf04876-238c-44a0-bc12-62c6980d2c11"
      },
      "source": [
        "#Answer\n",
        "def find_missing_value (df_data, column):\n",
        "  condition1 = (df_data['Age'].isna())\n",
        "  counting = condition1.sum()\n",
        "  return counting\n",
        "\n",
        "def find_median_value (df_data, column):\n",
        "  return df_data['Age'].median()\n",
        "\n",
        "AgeMissingTrain = find_missing_value(train, 'Age')\n",
        "AgeMissingTest = find_missing_value(test, 'Age')\n",
        "\n",
        "AgeMedianTrain = find_median_value(train, 'Age')\n",
        "AgeMedianTest = find_median_value(test, 'Age')\n",
        "train.describe()"
      ],
      "execution_count": 561,
      "outputs": [
        {
          "output_type": "execute_result",
          "data": {
            "text/html": [
              "<div>\n",
              "<style scoped>\n",
              "    .dataframe tbody tr th:only-of-type {\n",
              "        vertical-align: middle;\n",
              "    }\n",
              "\n",
              "    .dataframe tbody tr th {\n",
              "        vertical-align: top;\n",
              "    }\n",
              "\n",
              "    .dataframe thead th {\n",
              "        text-align: right;\n",
              "    }\n",
              "</style>\n",
              "<table border=\"1\" class=\"dataframe\">\n",
              "  <thead>\n",
              "    <tr style=\"text-align: right;\">\n",
              "      <th></th>\n",
              "      <th>PassengerId</th>\n",
              "      <th>Survived</th>\n",
              "      <th>Pclass</th>\n",
              "      <th>Age</th>\n",
              "      <th>SibSp</th>\n",
              "      <th>Parch</th>\n",
              "      <th>Fare</th>\n",
              "      <th>family</th>\n",
              "      <th>PredEveryoneDies</th>\n",
              "      <th>PredGender</th>\n",
              "    </tr>\n",
              "  </thead>\n",
              "  <tbody>\n",
              "    <tr>\n",
              "      <th>count</th>\n",
              "      <td>891.000000</td>\n",
              "      <td>891.000000</td>\n",
              "      <td>891.000000</td>\n",
              "      <td>714.000000</td>\n",
              "      <td>891.000000</td>\n",
              "      <td>891.000000</td>\n",
              "      <td>891.000000</td>\n",
              "      <td>891.000000</td>\n",
              "      <td>891.0</td>\n",
              "      <td>891.000000</td>\n",
              "    </tr>\n",
              "    <tr>\n",
              "      <th>mean</th>\n",
              "      <td>446.000000</td>\n",
              "      <td>0.383838</td>\n",
              "      <td>2.308642</td>\n",
              "      <td>29.699118</td>\n",
              "      <td>0.523008</td>\n",
              "      <td>0.381594</td>\n",
              "      <td>32.204208</td>\n",
              "      <td>0.567901</td>\n",
              "      <td>0.0</td>\n",
              "      <td>0.352413</td>\n",
              "    </tr>\n",
              "    <tr>\n",
              "      <th>std</th>\n",
              "      <td>257.353842</td>\n",
              "      <td>0.486592</td>\n",
              "      <td>0.836071</td>\n",
              "      <td>14.526497</td>\n",
              "      <td>1.102743</td>\n",
              "      <td>0.806057</td>\n",
              "      <td>49.693429</td>\n",
              "      <td>1.979287</td>\n",
              "      <td>0.0</td>\n",
              "      <td>0.477990</td>\n",
              "    </tr>\n",
              "    <tr>\n",
              "      <th>min</th>\n",
              "      <td>1.000000</td>\n",
              "      <td>0.000000</td>\n",
              "      <td>1.000000</td>\n",
              "      <td>0.420000</td>\n",
              "      <td>0.000000</td>\n",
              "      <td>0.000000</td>\n",
              "      <td>0.000000</td>\n",
              "      <td>0.000000</td>\n",
              "      <td>0.0</td>\n",
              "      <td>0.000000</td>\n",
              "    </tr>\n",
              "    <tr>\n",
              "      <th>25%</th>\n",
              "      <td>223.500000</td>\n",
              "      <td>0.000000</td>\n",
              "      <td>2.000000</td>\n",
              "      <td>20.125000</td>\n",
              "      <td>0.000000</td>\n",
              "      <td>0.000000</td>\n",
              "      <td>7.910400</td>\n",
              "      <td>0.000000</td>\n",
              "      <td>0.0</td>\n",
              "      <td>0.000000</td>\n",
              "    </tr>\n",
              "    <tr>\n",
              "      <th>50%</th>\n",
              "      <td>446.000000</td>\n",
              "      <td>0.000000</td>\n",
              "      <td>3.000000</td>\n",
              "      <td>28.000000</td>\n",
              "      <td>0.000000</td>\n",
              "      <td>0.000000</td>\n",
              "      <td>14.454200</td>\n",
              "      <td>0.000000</td>\n",
              "      <td>0.0</td>\n",
              "      <td>0.000000</td>\n",
              "    </tr>\n",
              "    <tr>\n",
              "      <th>75%</th>\n",
              "      <td>668.500000</td>\n",
              "      <td>1.000000</td>\n",
              "      <td>3.000000</td>\n",
              "      <td>38.000000</td>\n",
              "      <td>1.000000</td>\n",
              "      <td>0.000000</td>\n",
              "      <td>31.000000</td>\n",
              "      <td>0.000000</td>\n",
              "      <td>0.0</td>\n",
              "      <td>1.000000</td>\n",
              "    </tr>\n",
              "    <tr>\n",
              "      <th>max</th>\n",
              "      <td>891.000000</td>\n",
              "      <td>1.000000</td>\n",
              "      <td>3.000000</td>\n",
              "      <td>80.000000</td>\n",
              "      <td>8.000000</td>\n",
              "      <td>6.000000</td>\n",
              "      <td>512.329200</td>\n",
              "      <td>16.000000</td>\n",
              "      <td>0.0</td>\n",
              "      <td>1.000000</td>\n",
              "    </tr>\n",
              "  </tbody>\n",
              "</table>\n",
              "</div>"
            ],
            "text/plain": [
              "       PassengerId    Survived  ...  PredEveryoneDies  PredGender\n",
              "count   891.000000  891.000000  ...             891.0  891.000000\n",
              "mean    446.000000    0.383838  ...               0.0    0.352413\n",
              "std     257.353842    0.486592  ...               0.0    0.477990\n",
              "min       1.000000    0.000000  ...               0.0    0.000000\n",
              "25%     223.500000    0.000000  ...               0.0    0.000000\n",
              "50%     446.000000    0.000000  ...               0.0    0.000000\n",
              "75%     668.500000    1.000000  ...               0.0    1.000000\n",
              "max     891.000000    1.000000  ...               0.0    1.000000\n",
              "\n",
              "[8 rows x 10 columns]"
            ]
          },
          "metadata": {
            "tags": []
          },
          "execution_count": 561
        }
      ]
    },
    {
      "cell_type": "code",
      "metadata": {
        "colab_type": "code",
        "id": "bR36brWDbiBo",
        "colab": {
          "base_uri": "https://localhost:8080/",
          "height": 314
        },
        "outputId": "836f14ef-0779-486c-eeb1-f71d355043a9"
      },
      "source": [
        "grader.check('q11')\n",
        "train.describe()"
      ],
      "execution_count": 562,
      "outputs": [
        {
          "output_type": "execute_result",
          "data": {
            "text/html": [
              "<div>\n",
              "<style scoped>\n",
              "    .dataframe tbody tr th:only-of-type {\n",
              "        vertical-align: middle;\n",
              "    }\n",
              "\n",
              "    .dataframe tbody tr th {\n",
              "        vertical-align: top;\n",
              "    }\n",
              "\n",
              "    .dataframe thead th {\n",
              "        text-align: right;\n",
              "    }\n",
              "</style>\n",
              "<table border=\"1\" class=\"dataframe\">\n",
              "  <thead>\n",
              "    <tr style=\"text-align: right;\">\n",
              "      <th></th>\n",
              "      <th>PassengerId</th>\n",
              "      <th>Survived</th>\n",
              "      <th>Pclass</th>\n",
              "      <th>Age</th>\n",
              "      <th>SibSp</th>\n",
              "      <th>Parch</th>\n",
              "      <th>Fare</th>\n",
              "      <th>family</th>\n",
              "      <th>PredEveryoneDies</th>\n",
              "      <th>PredGender</th>\n",
              "    </tr>\n",
              "  </thead>\n",
              "  <tbody>\n",
              "    <tr>\n",
              "      <th>count</th>\n",
              "      <td>891.000000</td>\n",
              "      <td>891.000000</td>\n",
              "      <td>891.000000</td>\n",
              "      <td>714.000000</td>\n",
              "      <td>891.000000</td>\n",
              "      <td>891.000000</td>\n",
              "      <td>891.000000</td>\n",
              "      <td>891.000000</td>\n",
              "      <td>891.0</td>\n",
              "      <td>891.000000</td>\n",
              "    </tr>\n",
              "    <tr>\n",
              "      <th>mean</th>\n",
              "      <td>446.000000</td>\n",
              "      <td>0.383838</td>\n",
              "      <td>2.308642</td>\n",
              "      <td>29.699118</td>\n",
              "      <td>0.523008</td>\n",
              "      <td>0.381594</td>\n",
              "      <td>32.204208</td>\n",
              "      <td>0.567901</td>\n",
              "      <td>0.0</td>\n",
              "      <td>0.352413</td>\n",
              "    </tr>\n",
              "    <tr>\n",
              "      <th>std</th>\n",
              "      <td>257.353842</td>\n",
              "      <td>0.486592</td>\n",
              "      <td>0.836071</td>\n",
              "      <td>14.526497</td>\n",
              "      <td>1.102743</td>\n",
              "      <td>0.806057</td>\n",
              "      <td>49.693429</td>\n",
              "      <td>1.979287</td>\n",
              "      <td>0.0</td>\n",
              "      <td>0.477990</td>\n",
              "    </tr>\n",
              "    <tr>\n",
              "      <th>min</th>\n",
              "      <td>1.000000</td>\n",
              "      <td>0.000000</td>\n",
              "      <td>1.000000</td>\n",
              "      <td>0.420000</td>\n",
              "      <td>0.000000</td>\n",
              "      <td>0.000000</td>\n",
              "      <td>0.000000</td>\n",
              "      <td>0.000000</td>\n",
              "      <td>0.0</td>\n",
              "      <td>0.000000</td>\n",
              "    </tr>\n",
              "    <tr>\n",
              "      <th>25%</th>\n",
              "      <td>223.500000</td>\n",
              "      <td>0.000000</td>\n",
              "      <td>2.000000</td>\n",
              "      <td>20.125000</td>\n",
              "      <td>0.000000</td>\n",
              "      <td>0.000000</td>\n",
              "      <td>7.910400</td>\n",
              "      <td>0.000000</td>\n",
              "      <td>0.0</td>\n",
              "      <td>0.000000</td>\n",
              "    </tr>\n",
              "    <tr>\n",
              "      <th>50%</th>\n",
              "      <td>446.000000</td>\n",
              "      <td>0.000000</td>\n",
              "      <td>3.000000</td>\n",
              "      <td>28.000000</td>\n",
              "      <td>0.000000</td>\n",
              "      <td>0.000000</td>\n",
              "      <td>14.454200</td>\n",
              "      <td>0.000000</td>\n",
              "      <td>0.0</td>\n",
              "      <td>0.000000</td>\n",
              "    </tr>\n",
              "    <tr>\n",
              "      <th>75%</th>\n",
              "      <td>668.500000</td>\n",
              "      <td>1.000000</td>\n",
              "      <td>3.000000</td>\n",
              "      <td>38.000000</td>\n",
              "      <td>1.000000</td>\n",
              "      <td>0.000000</td>\n",
              "      <td>31.000000</td>\n",
              "      <td>0.000000</td>\n",
              "      <td>0.0</td>\n",
              "      <td>1.000000</td>\n",
              "    </tr>\n",
              "    <tr>\n",
              "      <th>max</th>\n",
              "      <td>891.000000</td>\n",
              "      <td>1.000000</td>\n",
              "      <td>3.000000</td>\n",
              "      <td>80.000000</td>\n",
              "      <td>8.000000</td>\n",
              "      <td>6.000000</td>\n",
              "      <td>512.329200</td>\n",
              "      <td>16.000000</td>\n",
              "      <td>0.0</td>\n",
              "      <td>1.000000</td>\n",
              "    </tr>\n",
              "  </tbody>\n",
              "</table>\n",
              "</div>"
            ],
            "text/plain": [
              "       PassengerId    Survived  ...  PredEveryoneDies  PredGender\n",
              "count   891.000000  891.000000  ...             891.0  891.000000\n",
              "mean    446.000000    0.383838  ...               0.0    0.352413\n",
              "std     257.353842    0.486592  ...               0.0    0.477990\n",
              "min       1.000000    0.000000  ...               0.0    0.000000\n",
              "25%     223.500000    0.000000  ...               0.0    0.000000\n",
              "50%     446.000000    0.000000  ...               0.0    0.000000\n",
              "75%     668.500000    1.000000  ...               0.0    1.000000\n",
              "max     891.000000    1.000000  ...               0.0    1.000000\n",
              "\n",
              "[8 rows x 10 columns]"
            ]
          },
          "metadata": {
            "tags": []
          },
          "execution_count": 562
        }
      ]
    },
    {
      "cell_type": "markdown",
      "metadata": {
        "colab_type": "text",
        "id": "o8F0wyrEbiBq"
      },
      "source": [
        "(12) For rows in which the age value is  missing, set the age to the appropriate median value for the train/test set. "
      ]
    },
    {
      "cell_type": "code",
      "metadata": {
        "colab_type": "code",
        "id": "319cK3sNbiBq",
        "colab": {}
      },
      "source": [
        "#Answer\n",
        "def replace_with_median (df_data, median):\n",
        "  df_data['Age'] = df_data['Age'].fillna(value=median)\n",
        "  return df_data\n",
        "\n",
        "train = replace_with_median(train, AgeMedianTrain)\n",
        "test = replace_with_median(test, AgeMedianTest)"
      ],
      "execution_count": 563,
      "outputs": []
    },
    {
      "cell_type": "code",
      "metadata": {
        "colab_type": "code",
        "id": "VIWAu76wbiBw",
        "colab": {
          "base_uri": "https://localhost:8080/",
          "height": 47
        },
        "outputId": "07865b77-835f-4c5c-b0ff-217ba2d95f6c"
      },
      "source": [
        "grader.check('q12')"
      ],
      "execution_count": 564,
      "outputs": [
        {
          "output_type": "execute_result",
          "data": {
            "text/html": [
              "\n",
              "    \n",
              "    \n",
              "        <p>All tests passed!</p>\n",
              "    \n",
              "    "
            ],
            "text/plain": [
              "\n",
              "    All tests passed!\n",
              "    "
            ]
          },
          "metadata": {
            "tags": []
          },
          "execution_count": 564
        }
      ]
    },
    {
      "cell_type": "markdown",
      "metadata": {
        "colab_type": "text",
        "id": "4WYb1qQ6biBy"
      },
      "source": [
        "\n",
        "(13). In our initial calculation of the `PredGender` column, we made our prediction based on whether the individual was male or female.  In accordance to the [women and children first](https://en.wikipedia.org/wiki/Women_and_children_first) protocol, we hypothesize that our model could be improved by including whether the individual was a child in addition to gender. We also have a question, what age to use to determine \"child\"? (People weren't likely to check for IDs.)  We will check 2 ages...<13 and <18 (somewhat arbitrary but have to start somewhere) and see which yields a better accuracy. <br>\n",
        "\n",
        "<br> \n",
        "\n",
        "Specifically, create 2 predictions as follows:\n",
        "\n",
        "`train['PredGenderAge13']` should be the prediction incorporating both Gender (women survive) and Age (Children Age<13 survived while Age>=13 died)  <br>\n",
        "`train['PredGenderAge18']` should be the prediction incorporating both Gender (women survive) and Age (Children Age<18 survived while Age>=18 died)  <br>\n",
        "\n",
        "*The analysis assumes that you have addressed missing values in the earlier step and you should do it for both the train and test dataframes*"
      ]
    },
    {
      "cell_type": "code",
      "metadata": {
        "colab_type": "code",
        "id": "Z_RXLnoXbiBz",
        "colab": {}
      },
      "source": [
        "#Answer\n",
        "def pred_age (df_data, age):\n",
        "  condition1 = (df_data['Sex'] == 'male')\n",
        "  condition2 = (df_data['Sex'] == 'female')\n",
        "  condition3 = (df_data['Age'] < age)\n",
        "  condition4 = (df_data['Age'] >= age)\n",
        "\n",
        "  df_data.loc[condition2 | (condition3), 'PredGenderAge'+str(age)] = 1\n",
        "  df_data.loc[df_data['PredGenderAge'+str(age)] != 1, 'PredGenderAge'+str(age)] = 0\n",
        "  df_data['PredGenderAge'+str(age)] = df_data['PredGenderAge'+str(age)].astype(int)\n",
        "  return df_data\n",
        "\n",
        "train = pred_age(train, 13)\n",
        "train = pred_age(train, 18)\n",
        "test = pred_age(test, 13)\n",
        "test = pred_age(test, 18)"
      ],
      "execution_count": 565,
      "outputs": []
    },
    {
      "cell_type": "code",
      "metadata": {
        "colab_type": "code",
        "id": "bg1Fep69biB1",
        "colab": {
          "base_uri": "https://localhost:8080/",
          "height": 47
        },
        "outputId": "df07d75e-05cf-43ec-e711-6f54f4b4dee5"
      },
      "source": [
        "grader.check('q13')"
      ],
      "execution_count": 566,
      "outputs": [
        {
          "output_type": "execute_result",
          "data": {
            "text/html": [
              "\n",
              "    \n",
              "    \n",
              "        <p>All tests passed!</p>\n",
              "    \n",
              "    "
            ],
            "text/plain": [
              "\n",
              "    All tests passed!\n",
              "    "
            ]
          },
          "metadata": {
            "tags": []
          },
          "execution_count": 566
        }
      ]
    },
    {
      "cell_type": "markdown",
      "metadata": {
        "colab_type": "text",
        "id": "FYkYiEckbiB3"
      },
      "source": [
        "(14). Calculate the accuracy for your new predictions.  Use `PredGenderAge13` in the training set to calculate `AccGenderAge13` (you can use your function again!) and `PredGenderAge18` to calcuate `AccGenderAge18`. "
      ]
    },
    {
      "cell_type": "code",
      "metadata": {
        "colab_type": "code",
        "id": "udYOXsOxbiB3",
        "colab": {}
      },
      "source": [
        "#Answer\n",
        "AccGenderAge13  = generate_accuracy(train.PredGenderAge13, train.Survived)\n",
        "AccGenderAge18  = generate_accuracy(train.PredGenderAge18, train.Survived)"
      ],
      "execution_count": 567,
      "outputs": []
    },
    {
      "cell_type": "code",
      "metadata": {
        "id": "5BPhO4fHKe8S",
        "colab_type": "code",
        "colab": {
          "base_uri": "https://localhost:8080/",
          "height": 35
        },
        "outputId": "f6f82287-3e5a-4d7a-a946-15d53c84c781"
      },
      "source": [
        "AccGenderAge18"
      ],
      "execution_count": 568,
      "outputs": [
        {
          "output_type": "execute_result",
          "data": {
            "text/plain": [
              "77.32884399551067"
            ]
          },
          "metadata": {
            "tags": []
          },
          "execution_count": 568
        }
      ]
    },
    {
      "cell_type": "code",
      "metadata": {
        "id": "qPtOw7DPKd4G",
        "colab_type": "code",
        "colab": {
          "base_uri": "https://localhost:8080/",
          "height": 35
        },
        "outputId": "fb3a55ad-7f91-441b-fdf2-230096b0aa15"
      },
      "source": [
        "AccGenderAge13"
      ],
      "execution_count": 569,
      "outputs": [
        {
          "output_type": "execute_result",
          "data": {
            "text/plain": [
              "79.2368125701459"
            ]
          },
          "metadata": {
            "tags": []
          },
          "execution_count": 569
        }
      ]
    },
    {
      "cell_type": "code",
      "metadata": {
        "colab_type": "code",
        "id": "y5mSZcrTbiB5",
        "colab": {
          "base_uri": "https://localhost:8080/",
          "height": 47
        },
        "outputId": "519a7fc1-d521-4028-91dc-2efce410a732"
      },
      "source": [
        "grader.check('q14')"
      ],
      "execution_count": 570,
      "outputs": [
        {
          "output_type": "execute_result",
          "data": {
            "text/html": [
              "\n",
              "    \n",
              "    \n",
              "        <p>All tests passed!</p>\n",
              "    \n",
              "    "
            ],
            "text/plain": [
              "\n",
              "    All tests passed!\n",
              "    "
            ]
          },
          "metadata": {
            "tags": []
          },
          "execution_count": 570
        }
      ]
    },
    {
      "cell_type": "markdown",
      "metadata": {
        "colab_type": "text",
        "id": "X_ZLsCx5biCA"
      },
      "source": [
        "(15). You should find that the accuracy is higher when using 13 as a designation for a child than 18. What does this tell you about the role of age in surviving a shipwreck? "
      ]
    },
    {
      "cell_type": "code",
      "metadata": {
        "colab_type": "code",
        "id": "8_GkUNYcbiCB",
        "colab": {}
      },
      "source": [
        "\n",
        "man15=\"\"\"\n",
        "It has some positive correlation to the shipwreck survival, it seems like\n",
        "younger children were more likely to survive during the tragedy.\n",
        "\"\"\""
      ],
      "execution_count": 571,
      "outputs": []
    },
    {
      "cell_type": "markdown",
      "metadata": {
        "colab_type": "text",
        "id": "5QoaQ9hQbiCD"
      },
      "source": [
        "(16) Create a prediction file for the \"women and children first\" model in using the test dataset and upload it to Kaggle. Go through the process of uploading it to Kaggle. Put your Kaggle username so we can verify your prediction occued. \n",
        "\n",
        "**Make sure your submission file prediction is an integer and not at float. If you submit a float it may not work.**"
      ]
    },
    {
      "cell_type": "code",
      "metadata": {
        "colab_type": "code",
        "id": "KFSWJLZYbiCD",
        "colab": {
          "base_uri": "https://localhost:8080/",
          "height": 35
        },
        "outputId": "25910ff1-3eea-4a37-cbb2-8728f60b5ca9"
      },
      "source": [
        "kaggle_username=\"aiidenchen\"\n",
        "man15=\"https://www.kaggle.com/\"+kaggle_username+\"/competitions\"\n",
        "#This gives a link to your competition page\n",
        "man15\n",
        "\n",
        "#submitdie = generate_submission(test, 'PredGenderAge13', 'Predwomenchildrenfirst13.csv')\n",
        "#submitdie = generate_submission(test, 'PredGenderAge18', 'Predwomenchildrenfirst18.csv')"
      ],
      "execution_count": 572,
      "outputs": [
        {
          "output_type": "execute_result",
          "data": {
            "application/vnd.google.colaboratory.intrinsic+json": {
              "type": "string"
            },
            "text/plain": [
              "'https://www.kaggle.com/aiidenchen/competitions'"
            ]
          },
          "metadata": {
            "tags": []
          },
          "execution_count": 572
        }
      ]
    }
  ]
}